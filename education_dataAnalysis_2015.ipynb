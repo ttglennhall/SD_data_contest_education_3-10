{
 "metadata": {
  "name": "",
  "signature": "sha256:7ce4656c108294bd690ef1ee66a5fa95dd9a9b66bbf1c21f47158f8891defa10"
 },
 "nbformat": 3,
 "nbformat_minor": 0,
 "worksheets": [
  {
   "cells": [
    {
     "cell_type": "heading",
     "level": 1,
     "metadata": {},
     "source": [
      "Education Data Analysis"
     ]
    },
    {
     "cell_type": "heading",
     "level": 2,
     "metadata": {},
     "source": [
      "Import Libraries"
     ]
    },
    {
     "cell_type": "code",
     "collapsed": false,
     "input": [
      "import pandas as pd"
     ],
     "language": "python",
     "metadata": {},
     "outputs": [],
     "prompt_number": 1
    },
    {
     "cell_type": "heading",
     "level": 2,
     "metadata": {},
     "source": [
      "Import Data Sets"
     ]
    },
    {
     "cell_type": "code",
     "collapsed": false,
     "input": [
      "api_columns = {\n",
      "    'c0070101q_dmob': pd.np.float16,\n",
      "    'c00701029_tot_911': pd.np.float16,\n",
      "    'c0070102a_sped': 'unicode',\n",
      "    'c0070102b_size': 'unicode',\n",
      "    'c0070102d_el_num': pd.np.float16,\n",
      "    'c0070102i_di_num': pd.np.float16,\n",
      "    'c0070102K_pcsts2_911': pd.np.float16,\n",
      "    'c0070102S_mr_num': pd.np.float16\n",
      "}\n",
      "api = pd.read_csv('data/api.csv', dtype=api_columns)"
     ],
     "language": "python",
     "metadata": {},
     "outputs": [],
     "prompt_number": 19
    },
    {
     "cell_type": "code",
     "collapsed": false,
     "input": [
      "api_2012 = pd.read_csv('data/api_2012.csv')"
     ],
     "language": "python",
     "metadata": {},
     "outputs": [],
     "prompt_number": 4
    },
    {
     "cell_type": "code",
     "collapsed": false,
     "input": [
      "celdt_columns = {\n",
      "    'c03K01008001_recordtype': pd.np.int16,\n",
      "}\n",
      "celdt = pd.read_csv('data/celdt.csv', dtype=celdt_columns)"
     ],
     "language": "python",
     "metadata": {},
     "outputs": [],
     "prompt_number": 20
    },
    {
     "cell_type": "code",
     "collapsed": false,
     "input": [
      "enroll_2013 = pd.read_csv('data/enroll_2013.csv')"
     ],
     "language": "python",
     "metadata": {},
     "outputs": [],
     "prompt_number": 6
    },
    {
     "cell_type": "code",
     "collapsed": false,
     "input": [
      "enrollment = pd.read_csv('data/enrollment.csv')"
     ],
     "language": "python",
     "metadata": {},
     "outputs": [],
     "prompt_number": 7
    },
    {
     "cell_type": "code",
     "collapsed": false,
     "input": [
      "schools_columns = {\n",
      "    'c03L0100p002_charter': 'unicode',\n",
      "}\n",
      "schools = pd.read_csv('data/schools.csv', dtype=schools_columns)"
     ],
     "language": "python",
     "metadata": {},
     "outputs": [],
     "prompt_number": 21
    },
    {
     "cell_type": "code",
     "collapsed": false,
     "input": [
      "star = pd.read_csv('data/star.csv')"
     ],
     "language": "python",
     "metadata": {},
     "outputs": [],
     "prompt_number": 9
    },
    {
     "cell_type": "heading",
     "level": 2,
     "metadata": {},
     "source": [
      "Descriptive Statistics of Students who are English Learners"
     ]
    },
    {
     "cell_type": "code",
     "collapsed": false,
     "input": [],
     "language": "python",
     "metadata": {},
     "outputs": []
    }
   ],
   "metadata": {}
  }
 ]
}